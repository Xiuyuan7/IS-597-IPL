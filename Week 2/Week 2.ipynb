{
 "cells": [
  {
   "cell_type": "markdown",
   "source": [
    "# Loading Styles"
   ],
   "metadata": {
    "collapsed": false
   }
  },
  {
   "cell_type": "code",
   "execution_count": 42,
   "metadata": {
    "collapsed": true
   },
   "outputs": [
    {
     "name": "stdout",
     "output_type": "stream",
     "text": [
      "Why did the snake cross the road?\n",
      "Just to be a sneaky snakie\n"
     ]
    }
   ],
   "source": [
    "import coolstuff\n",
    "joke, answer = coolstuff.bad_animal_joke(\"gecko\")\n",
    "\n",
    "print(joke)\n",
    "print(answer)\n",
    "\n",
    "joke, answer = coolstuff.bad_animal_joke(\"BUNNY\")\n",
    "\n",
    "print(joke)\n",
    "print(answer)\n",
    "\n",
    "print(coolstuff.joke)\n",
    "print(coolstuff.answer)"
   ]
  },
  {
   "cell_type": "code",
   "execution_count": 2,
   "outputs": [],
   "source": [
    "del coolstuff"
   ],
   "metadata": {
    "collapsed": false,
    "pycharm": {
     "name": "#%%\n"
    }
   }
  },
  {
   "cell_type": "code",
   "execution_count": 3,
   "outputs": [
    {
     "name": "stdout",
     "output_type": "stream",
     "text": [
      "Why did the gecko cross the road?\n",
      "To get to the gecko club.\n",
      "Why did the bunny cross the road?\n",
      "To get to the bunny club.\n",
      "Why did the snake cross the road?\n",
      "Just to be a sneaky snakie\n"
     ]
    }
   ],
   "source": [
    "import coolstuff as cs\n",
    "\n",
    "joke, answer = cs.bad_animal_joke(\"gecko\")\n",
    "\n",
    "print(joke)\n",
    "print(answer)\n",
    "\n",
    "joke, answer = cs.bad_animal_joke(\"BUNNY\")\n",
    "\n",
    "print(joke)\n",
    "print(answer)\n",
    "\n",
    "print(cs.joke)\n",
    "print(cs.answer)"
   ],
   "metadata": {
    "collapsed": false,
    "pycharm": {
     "name": "#%%\n"
    }
   }
  },
  {
   "cell_type": "code",
   "execution_count": 4,
   "outputs": [],
   "source": [
    "del cs"
   ],
   "metadata": {
    "collapsed": false,
    "pycharm": {
     "name": "#%%\n"
    }
   }
  },
  {
   "cell_type": "code",
   "execution_count": 5,
   "outputs": [
    {
     "name": "stdout",
     "output_type": "stream",
     "text": [
      "Why did the gecko cross the road?\n",
      "To get to the gecko club.\n",
      "Why did the bunny cross the road?\n",
      "To get to the bunny club.\n"
     ]
    },
    {
     "ename": "NameError",
     "evalue": "name 'coolstuff' is not defined",
     "output_type": "error",
     "traceback": [
      "\u001B[1;31m---------------------------------------------------------------------------\u001B[0m",
      "\u001B[1;31mNameError\u001B[0m                                 Traceback (most recent call last)",
      "\u001B[1;32m~\\AppData\\Local\\Temp/ipykernel_14904/3674603488.py\u001B[0m in \u001B[0;36m<module>\u001B[1;34m\u001B[0m\n\u001B[0;32m     11\u001B[0m \u001B[0mprint\u001B[0m\u001B[1;33m(\u001B[0m\u001B[0manswer\u001B[0m\u001B[1;33m)\u001B[0m\u001B[1;33m\u001B[0m\u001B[1;33m\u001B[0m\u001B[0m\n\u001B[0;32m     12\u001B[0m \u001B[1;33m\u001B[0m\u001B[0m\n\u001B[1;32m---> 13\u001B[1;33m \u001B[0mprint\u001B[0m\u001B[1;33m(\u001B[0m\u001B[0mcoolstuff\u001B[0m\u001B[1;33m.\u001B[0m\u001B[0mjoke\u001B[0m\u001B[1;33m)\u001B[0m\u001B[1;33m\u001B[0m\u001B[1;33m\u001B[0m\u001B[0m\n\u001B[0m",
      "\u001B[1;31mNameError\u001B[0m: name 'coolstuff' is not defined"
     ]
    }
   ],
   "source": [
    "from coolstuff import bad_animal_joke\n",
    "\n",
    "joke, answer = bad_animal_joke(\"gecko\")\n",
    "\n",
    "print(joke)\n",
    "print(answer)\n",
    "\n",
    "joke, answer = bad_animal_joke(\"BUNNY\")\n",
    "\n",
    "print(joke)\n",
    "print(answer)\n",
    "\n",
    "print(coolstuff.joke)"
   ],
   "metadata": {
    "collapsed": false,
    "pycharm": {
     "name": "#%%\n"
    }
   }
  },
  {
   "cell_type": "code",
   "execution_count": 6,
   "outputs": [
    {
     "name": "stdout",
     "output_type": "stream",
     "text": [
      "Why did the snake cross the road? Just to be a sneaky snakie\n",
      "Why did the gecko cross the road?\n",
      "To get to the gecko club.\n",
      "Why did the bunny cross the road?\n",
      "To get to the bunny club.\n",
      "Why did the bunny cross the road?\n",
      "To get to the bunny club.\n"
     ]
    }
   ],
   "source": [
    "from coolstuff import *\n",
    "\n",
    "print(joke, answer)\n",
    "\n",
    "joke, answer = bad_animal_joke(\"gecko\")\n",
    "\n",
    "print(joke)\n",
    "print(answer)\n",
    "\n",
    "joke, answer = bad_animal_joke(\"BUNNY\")\n",
    "\n",
    "print(joke)\n",
    "print(answer)\n",
    "\n",
    "print(joke)\n",
    "print(answer)\n",
    "\n",
    "# see that while we imported those variables, but our clashing overwrote them."
   ],
   "metadata": {
    "collapsed": false,
    "pycharm": {
     "name": "#%%\n"
    }
   }
  },
  {
   "cell_type": "markdown",
   "source": [
    "# Random Numbers"
   ],
   "metadata": {
    "collapsed": false
   }
  },
  {
   "cell_type": "code",
   "execution_count": 7,
   "outputs": [
    {
     "data": {
      "text/plain": "2"
     },
     "execution_count": 7,
     "metadata": {},
     "output_type": "execute_result"
    }
   ],
   "source": [
    "import random\n",
    "# set a random seed so this is reproducible, this should always be your standard action\n",
    "random.seed(42)\n",
    "# uses the same argument pattern as `range()` and randomly selects 1 integer value from those options\n",
    "random.randrange(1,11)"
   ],
   "metadata": {
    "collapsed": false,
    "pycharm": {
     "name": "#%%\n"
    }
   }
  },
  {
   "cell_type": "code",
   "execution_count": 14,
   "outputs": [
    {
     "data": {
      "text/plain": "6"
     },
     "execution_count": 14,
     "metadata": {},
     "output_type": "execute_result"
    }
   ],
   "source": [
    "# for a six sided die\n",
    "random.randrange(1,7)"
   ],
   "metadata": {
    "collapsed": false,
    "pycharm": {
     "name": "#%%\n"
    }
   }
  },
  {
   "cell_type": "code",
   "execution_count": 15,
   "outputs": [
    {
     "data": {
      "text/plain": "1"
     },
     "execution_count": 15,
     "metadata": {},
     "output_type": "execute_result"
    }
   ],
   "source": [
    "# works like the above but makes stop inclusive\n",
    "random.randint(1,6)"
   ],
   "metadata": {
    "collapsed": false,
    "pycharm": {
     "name": "#%%\n"
    }
   }
  },
  {
   "cell_type": "code",
   "execution_count": 16,
   "outputs": [
    {
     "data": {
      "text/plain": "'red'"
     },
     "execution_count": 16,
     "metadata": {},
     "output_type": "execute_result"
    }
   ],
   "source": [
    "colors = ['red', 'green', 'blue', 'fuzzy']\n",
    "# randomly selects an element from the sequence that you pass it\n",
    "random.choice(colors)"
   ],
   "metadata": {
    "collapsed": false,
    "pycharm": {
     "name": "#%%\n"
    }
   }
  },
  {
   "cell_type": "code",
   "execution_count": 17,
   "outputs": [
    {
     "data": {
      "text/plain": "['b', 'c', 'f', 'a', 'd', 'e']"
     },
     "execution_count": 17,
     "metadata": {},
     "output_type": "execute_result"
    }
   ],
   "source": [
    "options = ['a', 'b', 'c', 'd', 'e', 'f']\n",
    "\n",
    "random.shuffle(options)\n",
    "\n",
    "# will randomly shuffle IN PLACE the list that you give it, only works on mutable sequences\n",
    "options"
   ],
   "metadata": {
    "collapsed": false,
    "pycharm": {
     "name": "#%%\n"
    }
   }
  },
  {
   "cell_type": "code",
   "execution_count": 18,
   "outputs": [
    {
     "name": "stdout",
     "output_type": "stream",
     "text": [
      "['in', '1957', 'the', 'soviet', 'union', 'began', 'deploying', 'the', 's-75', 'dvina', 'surface-to-air', 'missile,', 'controlled', 'by', 'fan', 'song', 'fire', 'control', 'radars.', 'this', 'development', 'made', 'penetration', 'of', 'soviet', 'air', 'space', 'by', 'american', 'bombers', 'more', 'dangerous.', 'the', 'us', 'air', 'force', 'began', 'a', 'program', 'of', 'cataloging', 'the', 'approximate', 'location', 'and', 'individual', 'operating', 'frequencies', 'of', 'these', 'radars,', 'using', 'electronic', 'reconnaissance', 'aircraft', 'flying', 'off', 'the', 'borders', 'of', 'the', 'soviet', 'union.', 'this', 'program', 'provided', 'information', 'on', 'radars', 'on', 'the', 'periphery', 'of', 'the', 'soviet', 'union,', 'but', 'information', 'on', 'the', 'sites', 'further', 'inland', 'was', 'lacking.', 'some', 'experiments', 'were', 'carried', 'out', 'using', 'radio', 'telescopes', 'looking', 'for', 'serendipitous', 'soviet', 'radar', 'reflections', 'off', 'the', 'moon,', 'but', 'this', 'proved', 'an', 'inadequate', 'solution', 'to', 'the', 'problem.']\n"
     ]
    }
   ],
   "source": [
    "some_wikipedia_text = \"In 1957 the Soviet Union began deploying the S-75 Dvina surface-to-air missile, controlled by Fan Song fire control radars. \\\n",
    "                       This development made penetration of Soviet air space by American bombers more dangerous. The US Air Force began a program of \\\n",
    "                       cataloging the approximate location and individual operating frequencies of these radars, using electronic reconnaissance aircraft \\\n",
    "                       flying off the borders of the Soviet Union. This program provided information on radars on the periphery of the Soviet Union, \\\n",
    "                       but information on the sites further inland was lacking. Some experiments were carried out using radio telescopes looking for \\\n",
    "                       serendipitous Soviet radar reflections off the Moon, but this proved an inadequate solution to the problem.\"\n",
    "\n",
    "# https://en.wikipedia.org/wiki/SOLRAD_2\n",
    "\n",
    "words = some_wikipedia_text.lower().split()\n",
    "\n",
    "print(words)"
   ],
   "metadata": {
    "collapsed": false,
    "pycharm": {
     "name": "#%%\n"
    }
   }
  },
  {
   "cell_type": "code",
   "execution_count": 19,
   "outputs": [
    {
     "name": "stdout",
     "output_type": "stream",
     "text": [
      "11\n",
      "['more', 'information', 'for', 'reflections', 'these', 'of', 'dvina', 'carried', 'fire', 'the', 'telescopes']\n"
     ]
    }
   ],
   "source": [
    "random.shuffle(words)\n",
    "\n",
    "# flooring the float result\n",
    "samplesize = int(len(words) * .1)\n",
    "print(samplesize)\n",
    "\n",
    "print(words[:samplesize])"
   ],
   "metadata": {
    "collapsed": false,
    "pycharm": {
     "name": "#%%\n"
    }
   }
  },
  {
   "cell_type": "markdown",
   "source": [
    "# While Loop"
   ],
   "metadata": {
    "collapsed": false
   }
  },
  {
   "cell_type": "code",
   "execution_count": 20,
   "outputs": [
    {
     "name": "stdout",
     "output_type": "stream",
     "text": [
      "Bye!\n"
     ]
    }
   ],
   "source": [
    "while True:\n",
    "    check = input(\"Do you want to go on? (type no to end the program): \")\n",
    "    if check.lower() == 'no':\n",
    "        print(\"Bye!\")\n",
    "        break\n",
    "    else:\n",
    "        print(\"Let's hit it again!\")"
   ],
   "metadata": {
    "collapsed": false,
    "pycharm": {
     "name": "#%%\n"
    }
   }
  },
  {
   "cell_type": "code",
   "execution_count": 21,
   "outputs": [
    {
     "name": "stdout",
     "output_type": "stream",
     "text": [
      "2\n",
      "3\n",
      "5\n",
      "8\n",
      "11\n",
      "18\n",
      "28\n",
      "30\n",
      "37\n",
      "44\n",
      "54\n",
      "62\n",
      "71\n",
      "76\n",
      "85\n",
      "86\n",
      "88\n",
      "97\n",
      "102\n",
      "The final total is 102 and it took 19 trials to get there\n"
     ]
    }
   ],
   "source": [
    "import random\n",
    "\n",
    "total = 0\n",
    "count = 0\n",
    "\n",
    "while total < 100:\n",
    "    total += random.randint(1,10)\n",
    "    count += 1\n",
    "    print(total)\n",
    "\n",
    "print(\"The final total is\", total, \"and it took\", count, \"trials to get there\")"
   ],
   "metadata": {
    "collapsed": false,
    "pycharm": {
     "name": "#%%\n"
    }
   }
  },
  {
   "cell_type": "markdown",
   "source": [
    "# Dictionary"
   ],
   "metadata": {
    "collapsed": false
   }
  },
  {
   "cell_type": "code",
   "execution_count": 22,
   "outputs": [
    {
     "name": "stdout",
     "output_type": "stream",
     "text": [
      "{'a': [1, 2, 3]}\n",
      "{'a': [1, 2, 3, 4]}\n"
     ]
    }
   ],
   "source": [
    "test = {'a': [1, 2]}\n",
    "\n",
    "result = test['a']\n",
    "\n",
    "result.append(3)\n",
    "\n",
    "print(test)\n",
    "\n",
    "# the better way to do this is the following:\n",
    "\n",
    "test['a'].append(4)\n",
    "\n",
    "print(test)"
   ],
   "metadata": {
    "collapsed": false,
    "pycharm": {
     "name": "#%%\n"
    }
   }
  },
  {
   "cell_type": "code",
   "execution_count": 23,
   "outputs": [],
   "source": [
    "words = ['dvina', 'some', 'of', 'dangerous.', 'lacking.', 'more', 'using', 'carried', 'radar', 'but', 'frequencies', 'sites', 'telescopes', 'the', 'fire', 'union.', 'looking', 'on', 'using', 'the', 's-75', 'soviet', 'off', 'serendipitous', 'the', '1957', 'the', 'soviet', 'space', 'further', 'made', 'electronic', 'the', 'radars,', 'information', 'of', 'on', 'air', 'the', 'program', 'of', 'flying', 'reflections', 'penetration', 'this', 'provided', 'of', 'cataloging', 'the', 'control', 'soviet', 'deploying', 'off', 'the', 'radars.', 'these', 'fan', 'approximate', 'the', 'proved', 'the', 'soviet', 'began', 'operating', 'a', 'surface-to-air', 'were', 'song', 'radars', 'borders', 'began', 'us', 'and', 'individual', 'controlled', 'of', 'but', 'by', 'inland', 'moon,', 'this', 'problem.', 'location', 'an', 'development', 'in', 'force', 'inadequate', 'the', 'american', 'reconnaissance', 'to', 'out', 'was', 'radio', 'air', 'periphery', 'this', 'information', 'program', 'bombers', 'by', 'solution', 'soviet', 'union', 'aircraft', 'union,', 'missile,', 'on', 'for', 'experiments']"
   ],
   "metadata": {
    "collapsed": false,
    "pycharm": {
     "name": "#%%\n"
    }
   }
  },
  {
   "cell_type": "code",
   "execution_count": 24,
   "outputs": [
    {
     "name": "stdout",
     "output_type": "stream",
     "text": [
      "{'dvina': 1, 'some': 1, 'of': 5, 'dangerous.': 1, 'lacking.': 1, 'more': 1, 'using': 2, 'carried': 1, 'radar': 1, 'but': 2, 'frequencies': 1, 'sites': 1, 'telescopes': 1, 'the': 11, 'fire': 1, 'union.': 1, 'looking': 1, 'on': 3, 's-75': 1, 'soviet': 5, 'off': 2, 'serendipitous': 1, '1957': 1, 'space': 1, 'further': 1, 'made': 1, 'electronic': 1, 'radars,': 1, 'information': 2, 'air': 2, 'program': 2, 'flying': 1, 'reflections': 1, 'penetration': 1, 'this': 3, 'provided': 1, 'cataloging': 1, 'control': 1, 'deploying': 1, 'radars.': 1, 'these': 1, 'fan': 1, 'approximate': 1, 'proved': 1, 'began': 2, 'operating': 1, 'a': 1, 'surface-to-air': 1, 'were': 1, 'song': 1, 'radars': 1, 'borders': 1, 'us': 1, 'and': 1, 'individual': 1, 'controlled': 1, 'by': 2, 'inland': 1, 'moon,': 1, 'problem.': 1, 'location': 1, 'an': 1, 'development': 1, 'in': 1, 'force': 1, 'inadequate': 1, 'american': 1, 'reconnaissance': 1, 'to': 1, 'out': 1, 'was': 1, 'radio': 1, 'periphery': 1, 'bombers': 1, 'solution': 1, 'union': 1, 'aircraft': 1, 'union,': 1, 'missile,': 1, 'for': 1, 'experiments': 1}\n"
     ]
    }
   ],
   "source": [
    "# see how I'm always opening my cells with the base value? this lets it reset every time you rerun things\n",
    "counts = {}\n",
    "\n",
    "for word in words:\n",
    "    if word not in counts:\n",
    "        counts[word] = 1 # base case\n",
    "    else:\n",
    "        counts[word] += 1 # increment if its in there\n",
    "\n",
    "print(counts)"
   ],
   "metadata": {
    "collapsed": false,
    "pycharm": {
     "name": "#%%\n"
    }
   }
  },
  {
   "cell_type": "code",
   "execution_count": 25,
   "outputs": [
    {
     "name": "stdout",
     "output_type": "stream",
     "text": [
      "{'<=3': ['of', 'but', 'the', 'on', 'the', 'off', 'the', 'the', 'the', 'of', 'on', 'air', 'the', 'of', 'of', 'the', 'off', 'the', 'fan', 'the', 'the', 'a', 'us', 'and', 'of', 'but', 'by', 'an', 'in', 'the', 'to', 'out', 'was', 'air', 'by', 'on', 'for'], '4-6': ['dvina', 'some', 'more', 'using', 'radar', 'sites', 'fire', 'union.', 'using', 's-75', 'soviet', '1957', 'soviet', 'space', 'made', 'flying', 'this', 'soviet', 'these', 'proved', 'soviet', 'began', 'were', 'song', 'radars', 'began', 'inland', 'moon,', 'this', 'force', 'radio', 'this', 'soviet', 'union', 'union,'], '7+': ['dangerous.', 'lacking.', 'carried', 'frequencies', 'telescopes', 'looking', 'serendipitous', 'further', 'electronic', 'radars,', 'information', 'program', 'reflections', 'penetration', 'provided', 'cataloging', 'control', 'deploying', 'radars.', 'approximate', 'operating', 'surface-to-air', 'borders', 'individual', 'controlled', 'problem.', 'location', 'development', 'inadequate', 'american', 'reconnaissance', 'periphery', 'information', 'program', 'bombers', 'solution', 'aircraft', 'missile,', 'experiments']}\n"
     ]
    }
   ],
   "source": [
    "wordcats = {'<=3': [], '4-6':[], '7+': []}\n",
    "\n",
    "for word in words:\n",
    "    l = len(word)\n",
    "    if l <= 3:\n",
    "        wordcats['<=3'].append(word)\n",
    "    elif l <= 6:\n",
    "        wordcats['4-6'].append(word)\n",
    "    else:\n",
    "        wordcats['7+'].append(word)\n",
    "\n",
    "print(wordcats)"
   ],
   "metadata": {
    "collapsed": false,
    "pycharm": {
     "name": "#%%\n"
    }
   }
  },
  {
   "cell_type": "code",
   "execution_count": 26,
   "outputs": [
    {
     "name": "stdout",
     "output_type": "stream",
     "text": [
      "<=3 37 words\n",
      "4-6 35 words\n",
      "7+ 39 words\n"
     ]
    }
   ],
   "source": [
    "for key, value in wordcats.items():\n",
    "    print(key, len(value), 'words')"
   ],
   "metadata": {
    "collapsed": false,
    "pycharm": {
     "name": "#%%\n"
    }
   }
  },
  {
   "cell_type": "markdown",
   "source": [
    "# Comprehension"
   ],
   "metadata": {
    "collapsed": false
   }
  },
  {
   "cell_type": "code",
   "execution_count": 27,
   "outputs": [],
   "source": [
    "sen = \"the quick brown fox jumps over the lazy dog\".split()"
   ],
   "metadata": {
    "collapsed": false,
    "pycharm": {
     "name": "#%%\n"
    }
   }
  },
  {
   "cell_type": "code",
   "execution_count": 28,
   "outputs": [
    {
     "name": "stdout",
     "output_type": "stream",
     "text": [
      "['The', 'Quick', 'Brown', 'Fox', 'Jumps', 'Over', 'The', 'Lazy', 'Dog']\n"
     ]
    }
   ],
   "source": [
    "print([w.title() for w in sen])"
   ],
   "metadata": {
    "collapsed": false,
    "pycharm": {
     "name": "#%%\n"
    }
   }
  },
  {
   "cell_type": "code",
   "execution_count": 29,
   "outputs": [
    {
     "name": "stdout",
     "output_type": "stream",
     "text": [
      "[3, 5, 5, 3, 5, 4, 3, 4, 3]\n"
     ]
    }
   ],
   "source": [
    "print([len(w) for w in sen])"
   ],
   "metadata": {
    "collapsed": false,
    "pycharm": {
     "name": "#%%\n"
    }
   }
  },
  {
   "cell_type": "code",
   "execution_count": 30,
   "outputs": [
    {
     "name": "stdout",
     "output_type": "stream",
     "text": [
      "['the', 'fox', 'the', 'dog']\n"
     ]
    }
   ],
   "source": [
    "print([w for w in sen if len(w) == 3])"
   ],
   "metadata": {
    "collapsed": false,
    "pycharm": {
     "name": "#%%\n"
    }
   }
  },
  {
   "cell_type": "code",
   "execution_count": 31,
   "outputs": [
    {
     "data": {
      "text/plain": "{'<=3': 37, '4-6': 35, '7+': 39}"
     },
     "execution_count": 31,
     "metadata": {},
     "output_type": "execute_result"
    }
   ],
   "source": [
    "# counts how many there are\n",
    "{key: len(value) for key, value in wordcats.items()}"
   ],
   "metadata": {
    "collapsed": false,
    "pycharm": {
     "name": "#%%\n"
    }
   }
  },
  {
   "cell_type": "code",
   "execution_count": 32,
   "outputs": [
    {
     "data": {
      "text/plain": "{'the': 3,\n 'quick': 5,\n 'brown': 5,\n 'fox': 3,\n 'jumps': 5,\n 'over': 4,\n 'lazy': 4,\n 'dog': 3}"
     },
     "execution_count": 32,
     "metadata": {},
     "output_type": "execute_result"
    }
   ],
   "source": [
    "{w: len(w) for w in sen}"
   ],
   "metadata": {
    "collapsed": false,
    "pycharm": {
     "name": "#%%\n"
    }
   }
  },
  {
   "cell_type": "markdown",
   "source": [
    "# Function"
   ],
   "metadata": {
    "collapsed": false
   }
  },
  {
   "cell_type": "code",
   "execution_count": 33,
   "outputs": [
    {
     "name": "stdout",
     "output_type": "stream",
     "text": [
      "helloworld\n"
     ]
    }
   ],
   "source": [
    "def functionname(parameter1, parameter2): # define\n",
    "    result = parameter1 + parameter2 # do stuff\n",
    "    return result # return only one thing\n",
    "\n",
    "hw_result = functionname(\"hello\", \"world\") # call the function\n",
    "print(hw_result)"
   ],
   "metadata": {
    "collapsed": false,
    "pycharm": {
     "name": "#%%\n"
    }
   }
  },
  {
   "cell_type": "code",
   "execution_count": 34,
   "outputs": [
    {
     "data": {
      "text/plain": "4"
     },
     "execution_count": 34,
     "metadata": {},
     "output_type": "execute_result"
    }
   ],
   "source": [
    "b = lambda x, y: x + y\n",
    "b(1,3)"
   ],
   "metadata": {
    "collapsed": false,
    "pycharm": {
     "name": "#%%\n"
    }
   }
  },
  {
   "cell_type": "code",
   "execution_count": 39,
   "outputs": [
    {
     "name": "stdout",
     "output_type": "stream",
     "text": [
      "{'the': 3, 'quick': 5, 'brown': 5, 'fox': 3, 'jumps': 5, 'over': 4, 'lazy': 4, 'dog': 3}\n"
     ]
    }
   ],
   "source": [
    "counts = {w: len(w) for w in sen}\n",
    "print(counts)"
   ],
   "metadata": {
    "collapsed": false,
    "pycharm": {
     "name": "#%%\n"
    }
   }
  },
  {
   "cell_type": "code",
   "execution_count": 40,
   "outputs": [
    {
     "data": {
      "text/plain": "['quick', 'brown', 'jumps', 'over', 'lazy', 'the', 'fox', 'dog']"
     },
     "execution_count": 40,
     "metadata": {},
     "output_type": "execute_result"
    }
   ],
   "source": [
    "sorted(counts, key = lambda item: len(item), reverse = True)"
   ],
   "metadata": {
    "collapsed": false,
    "pycharm": {
     "name": "#%%\n"
    }
   }
  },
  {
   "cell_type": "code",
   "execution_count": 37,
   "outputs": [
    {
     "data": {
      "text/plain": "{'<=3': 37, '4-6': 35, '7+': 39}"
     },
     "execution_count": 37,
     "metadata": {},
     "output_type": "execute_result"
    }
   ],
   "source": [
    "countedcats = {key: len(value) for key, value in wordcats.items()}\n",
    "countedcats"
   ],
   "metadata": {
    "collapsed": false,
    "pycharm": {
     "name": "#%%\n"
    }
   }
  },
  {
   "cell_type": "code",
   "execution_count": 38,
   "outputs": [
    {
     "data": {
      "text/plain": "['4-6', '<=3', '7+']"
     },
     "execution_count": 38,
     "metadata": {},
     "output_type": "execute_result"
    }
   ],
   "source": [
    "sorted(countedcats, key = lambda item: countedcats[item])"
   ],
   "metadata": {
    "collapsed": false,
    "pycharm": {
     "name": "#%%\n"
    }
   }
  },
  {
   "cell_type": "code",
   "execution_count": null,
   "outputs": [],
   "source": [],
   "metadata": {
    "collapsed": false,
    "pycharm": {
     "name": "#%%\n"
    }
   }
  }
 ],
 "metadata": {
  "kernelspec": {
   "display_name": "Python 3",
   "language": "python",
   "name": "python3"
  },
  "language_info": {
   "codemirror_mode": {
    "name": "ipython",
    "version": 2
   },
   "file_extension": ".py",
   "mimetype": "text/x-python",
   "name": "python",
   "nbconvert_exporter": "python",
   "pygments_lexer": "ipython2",
   "version": "2.7.6"
  }
 },
 "nbformat": 4,
 "nbformat_minor": 0
}