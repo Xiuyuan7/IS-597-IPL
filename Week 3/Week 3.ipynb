{
 "cells": [
  {
   "cell_type": "markdown",
   "source": [
    "# File Path and Pathlib"
   ],
   "metadata": {
    "collapsed": false
   }
  },
  {
   "cell_type": "code",
   "execution_count": 14,
   "outputs": [
    {
     "name": "stdout",
     "output_type": "stream",
     "text": [
      "Week 3\n"
     ]
    }
   ],
   "source": [
    "import glob\n",
    "\n",
    "for f in glob.glob('*.ipynb'):\n",
    "    print(f.split('/')[-1].split('.')[0])"
   ],
   "metadata": {
    "collapsed": false,
    "pycharm": {
     "name": "#%%\n"
    }
   }
  },
  {
   "cell_type": "code",
   "execution_count": 2,
   "outputs": [
    {
     "name": "stdout",
     "output_type": "stream",
     "text": [
      ".\n",
      "D:\\projects\\python\\IS-597-IPL\\Week 3\n",
      "True\n"
     ]
    }
   ],
   "source": [
    "import pathlib\n",
    "p = pathlib.Path('.') # . represents current directory\n",
    "print(p) # get the relative path\n",
    "print(p.absolute()) # get the absolute path\n",
    "print(p.is_dir()) # check if this is a directory or not"
   ],
   "metadata": {
    "collapsed": false,
    "pycharm": {
     "name": "#%%\n"
    }
   }
  },
  {
   "cell_type": "code",
   "execution_count": 4,
   "outputs": [
    {
     "name": "stdout",
     "output_type": "stream",
     "text": [
      "<generator object Path.glob at 0x00000219AF2CEEB0>\n",
      "data_for_profile_testing.zip False <class 'pathlib.WindowsPath'> <class 'str'>\n",
      "examplefolder True <class 'pathlib.WindowsPath'> <class 'str'>\n",
      "Homework True <class 'pathlib.WindowsPath'> <class 'str'>\n",
      "linecounts.csv False <class 'pathlib.WindowsPath'> <class 'str'>\n",
      "query_has_unique True <class 'pathlib.WindowsPath'> <class 'str'>\n",
      "results True <class 'pathlib.WindowsPath'> <class 'str'>\n",
      "Week 3.ipynb False <class 'pathlib.WindowsPath'> <class 'str'>\n",
      "wordcounts.json False <class 'pathlib.WindowsPath'> <class 'str'>\n"
     ]
    }
   ],
   "source": [
    "print(p.glob('*')) # glob() allows to search for files in directory, return a generator object\n",
    "results = list(p.glob('*'))\n",
    "for subp in results:\n",
    "    print(subp, subp.is_dir(), type(subp), type(str(subp)))"
   ],
   "metadata": {
    "collapsed": false,
    "pycharm": {
     "name": "#%%\n"
    }
   }
  },
  {
   "cell_type": "code",
   "execution_count": 18,
   "outputs": [
    {
     "data": {
      "text/plain": "[WindowsPath('data_for_profile_testing')]"
     },
     "execution_count": 18,
     "metadata": {},
     "output_type": "execute_result"
    }
   ],
   "source": [
    "folders = [path for path in results if path.is_dir()]\n",
    "folders"
   ],
   "metadata": {
    "collapsed": false,
    "pycharm": {
     "name": "#%%\n"
    }
   }
  },
  {
   "cell_type": "code",
   "execution_count": 19,
   "outputs": [
    {
     "name": "stdout",
     "output_type": "stream",
     "text": [
      "True False True\n"
     ]
    }
   ],
   "source": [
    "# checking if it is a folder, if it's a file, and if that path exists.\n",
    "print(p.is_dir(), p.is_file(), p.exists())"
   ],
   "metadata": {
    "collapsed": false,
    "pycharm": {
     "name": "#%%\n"
    }
   }
  },
  {
   "cell_type": "code",
   "execution_count": 21,
   "outputs": [
    {
     "name": "stdout",
     "output_type": "stream",
     "text": [
      "D:\\projects\\python\\IS-597-IPL\\Week 3\\examplefolder\n",
      "True\n",
      "[WindowsPath('examplefolder/boomboom.txt'), WindowsPath('examplefolder/countsmalltext.txt'), WindowsPath('examplefolder/data'), WindowsPath('examplefolder/demo.txt'), WindowsPath('examplefolder/smalltext.txt'), WindowsPath('examplefolder/uppersmalltext.txt')]\n"
     ]
    }
   ],
   "source": [
    "example = pathlib.Path('examplefolder')\n",
    "\n",
    "newpath = p / example\n",
    "\n",
    "print(newpath.absolute())\n",
    "print(newpath.exists())\n",
    "print(list(newpath.glob('*')))"
   ],
   "metadata": {
    "collapsed": false,
    "pycharm": {
     "name": "#%%\n"
    }
   }
  },
  {
   "cell_type": "code",
   "execution_count": 23,
   "outputs": [
    {
     "name": "stdout",
     "output_type": "stream",
     "text": [
      "boomboom.txt--boomboom--examplefolder--.txt--['.txt']\n",
      "countsmalltext.txt--countsmalltext--examplefolder--.txt--['.txt']\n",
      "data--data--examplefolder----[]\n",
      "demo.txt--demo--examplefolder--.txt--['.txt']\n",
      "smalltext.txt--smalltext--examplefolder--.txt--['.txt']\n",
      "uppersmalltext.txt--uppersmalltext--examplefolder--.txt--['.txt']\n"
     ]
    }
   ],
   "source": [
    "# check out the https://docs.python.org/3/library/pathlib.html#methods-and-properties here for more info on them\n",
    "for f in newpath.glob('*'):\n",
    "    print(f.name, f.stem, f.parent, f.suffix, f.suffixes, sep = \"--\")"
   ],
   "metadata": {
    "collapsed": false,
    "pycharm": {
     "name": "#%%\n"
    }
   }
  },
  {
   "cell_type": "code",
   "execution_count": 24,
   "outputs": [
    {
     "name": "stdout",
     "output_type": "stream",
     "text": [
      "[WindowsPath('examplefolder/boomboom.txt'), WindowsPath('examplefolder/countsmalltext.txt'), WindowsPath('examplefolder/demo.txt'), WindowsPath('examplefolder/smalltext.txt'), WindowsPath('examplefolder/uppersmalltext.txt')]\n"
     ]
    }
   ],
   "source": [
    "# just txt files\n",
    "print(list(newpath.glob('*.txt')))"
   ],
   "metadata": {
    "collapsed": false,
    "pycharm": {
     "name": "#%%\n"
    }
   }
  },
  {
   "cell_type": "markdown",
   "source": [
    "# Create File Name and Zfill"
   ],
   "metadata": {
    "collapsed": false
   }
  },
  {
   "cell_type": "code",
   "execution_count": 25,
   "outputs": [
    {
     "name": "stdout",
     "output_type": "stream",
     "text": [
      "book-0.txt\n",
      "book-1.txt\n",
      "book-2.txt\n",
      "book-3.txt\n",
      "book-4.txt\n",
      "book-5.txt\n",
      "book-6.txt\n",
      "book-7.txt\n",
      "book-8.txt\n",
      "book-9.txt\n",
      "book-10.txt\n",
      "book-11.txt\n",
      "book-12.txt\n",
      "book-13.txt\n",
      "book-14.txt\n",
      "movie-0.txt\n",
      "movie-1.txt\n",
      "movie-2.txt\n",
      "movie-3.txt\n",
      "movie-4.txt\n",
      "movie-5.txt\n",
      "movie-6.txt\n",
      "movie-7.txt\n",
      "movie-8.txt\n",
      "movie-9.txt\n",
      "movie-10.txt\n",
      "movie-11.txt\n",
      "movie-12.txt\n",
      "movie-13.txt\n",
      "movie-14.txt\n"
     ]
    }
   ],
   "source": [
    "for color in ['book', 'movie']:\n",
    "    for i in range(15):\n",
    "        print(color + '-' + str(i) + '.txt')"
   ],
   "metadata": {
    "collapsed": false,
    "pycharm": {
     "name": "#%%\n"
    }
   }
  },
  {
   "cell_type": "code",
   "execution_count": 26,
   "outputs": [
    {
     "name": "stdout",
     "output_type": "stream",
     "text": [
      "book-000.txt\n",
      "book-001.txt\n",
      "book-002.txt\n",
      "book-003.txt\n",
      "book-004.txt\n",
      "book-005.txt\n",
      "book-006.txt\n",
      "book-007.txt\n",
      "book-008.txt\n",
      "book-009.txt\n",
      "book-010.txt\n",
      "book-011.txt\n",
      "book-012.txt\n",
      "book-013.txt\n",
      "book-014.txt\n",
      "movie-000.txt\n",
      "movie-001.txt\n",
      "movie-002.txt\n",
      "movie-003.txt\n",
      "movie-004.txt\n",
      "movie-005.txt\n",
      "movie-006.txt\n",
      "movie-007.txt\n",
      "movie-008.txt\n",
      "movie-009.txt\n",
      "movie-010.txt\n",
      "movie-011.txt\n",
      "movie-012.txt\n",
      "movie-013.txt\n",
      "movie-014.txt\n"
     ]
    }
   ],
   "source": [
    "for color in ['book', 'movie']:\n",
    "    for i in range(15):\n",
    "        print(color + '-' + str(i).zfill(3) + '.txt')"
   ],
   "metadata": {
    "collapsed": false,
    "pycharm": {
     "name": "#%%\n"
    }
   }
  },
  {
   "cell_type": "code",
   "execution_count": 28,
   "outputs": [],
   "source": [
    "target = pathlib.Path('results')\n",
    "\n",
    "for color in ['book', 'movie']:\n",
    "    for i in range(15):\n",
    "        fname = color + '-' + str(i).zfill(3) + '.txt'\n",
    "        outfilepath = target / pathlib.Path(fname)\n",
    "        outfilepath.write_text('hello world' + str(i)) # you can even write files!!!"
   ],
   "metadata": {
    "collapsed": false,
    "pycharm": {
     "name": "#%%\n"
    }
   }
  },
  {
   "cell_type": "code",
   "execution_count": 29,
   "outputs": [
    {
     "name": "stdout",
     "output_type": "stream",
     "text": [
      "[]\n"
     ]
    }
   ],
   "source": [
    "deleteus = target.glob('*.txt')\n",
    "\n",
    "for f in deleteus:\n",
    "    f.unlink()\n",
    "\n",
    "print(list(target.glob('*.txt')))"
   ],
   "metadata": {
    "collapsed": false,
    "pycharm": {
     "name": "#%%\n"
    }
   }
  },
  {
   "cell_type": "code",
   "execution_count": 33,
   "outputs": [],
   "source": [
    "# maybe you wanted these subgroups to be separate folders.\n",
    "\n",
    "target = pathlib.Path('results')\n",
    "\n",
    "for color in ['book', 'movie']:\n",
    "    for i in range(15):\n",
    "        fname = str(i).zfill(3) + '.txt'\n",
    "        outfilepath = target / pathlib.Path(color) / pathlib.Path(fname)\n",
    "        outfilepath.write_text('hello again ' + color + str(i))"
   ],
   "metadata": {
    "collapsed": false,
    "pycharm": {
     "name": "#%%\n"
    }
   }
  },
  {
   "cell_type": "code",
   "execution_count": 34,
   "outputs": [
    {
     "name": "stdout",
     "output_type": "stream",
     "text": [
      "D:\\projects\\python\\IS-597-IPL\\Week 3\\results\\book-000.txt\n",
      "D:\\projects\\python\\IS-597-IPL\\Week 3\\results\\book-001.txt\n",
      "D:\\projects\\python\\IS-597-IPL\\Week 3\\results\\book-002.txt\n",
      "D:\\projects\\python\\IS-597-IPL\\Week 3\\results\\book-003.txt\n",
      "D:\\projects\\python\\IS-597-IPL\\Week 3\\results\\book-004.txt\n",
      "D:\\projects\\python\\IS-597-IPL\\Week 3\\results\\book-005.txt\n",
      "D:\\projects\\python\\IS-597-IPL\\Week 3\\results\\book-006.txt\n",
      "D:\\projects\\python\\IS-597-IPL\\Week 3\\results\\book-007.txt\n",
      "D:\\projects\\python\\IS-597-IPL\\Week 3\\results\\book-008.txt\n",
      "D:\\projects\\python\\IS-597-IPL\\Week 3\\results\\book-009.txt\n",
      "D:\\projects\\python\\IS-597-IPL\\Week 3\\results\\book-010.txt\n",
      "D:\\projects\\python\\IS-597-IPL\\Week 3\\results\\book-011.txt\n",
      "D:\\projects\\python\\IS-597-IPL\\Week 3\\results\\book-012.txt\n",
      "D:\\projects\\python\\IS-597-IPL\\Week 3\\results\\book-013.txt\n",
      "D:\\projects\\python\\IS-597-IPL\\Week 3\\results\\book-014.txt\n",
      "D:\\projects\\python\\IS-597-IPL\\Week 3\\results\\movie-000.txt\n",
      "D:\\projects\\python\\IS-597-IPL\\Week 3\\results\\movie-001.txt\n",
      "D:\\projects\\python\\IS-597-IPL\\Week 3\\results\\movie-002.txt\n",
      "D:\\projects\\python\\IS-597-IPL\\Week 3\\results\\movie-003.txt\n",
      "D:\\projects\\python\\IS-597-IPL\\Week 3\\results\\movie-004.txt\n",
      "D:\\projects\\python\\IS-597-IPL\\Week 3\\results\\movie-005.txt\n",
      "D:\\projects\\python\\IS-597-IPL\\Week 3\\results\\movie-006.txt\n",
      "D:\\projects\\python\\IS-597-IPL\\Week 3\\results\\movie-007.txt\n",
      "D:\\projects\\python\\IS-597-IPL\\Week 3\\results\\movie-008.txt\n",
      "D:\\projects\\python\\IS-597-IPL\\Week 3\\results\\movie-009.txt\n",
      "D:\\projects\\python\\IS-597-IPL\\Week 3\\results\\movie-010.txt\n",
      "D:\\projects\\python\\IS-597-IPL\\Week 3\\results\\movie-011.txt\n",
      "D:\\projects\\python\\IS-597-IPL\\Week 3\\results\\movie-012.txt\n",
      "D:\\projects\\python\\IS-597-IPL\\Week 3\\results\\movie-013.txt\n",
      "D:\\projects\\python\\IS-597-IPL\\Week 3\\results\\movie-014.txt\n"
     ]
    }
   ],
   "source": [
    "target = pathlib.Path('results')\n",
    "\n",
    "if not target.exists():\n",
    "    target.mkdir()\n",
    "\n",
    "for color in ['book', 'movie']:\n",
    "    c_dir = pathlib.Path(color)\n",
    "    subdir = target / c_dir\n",
    "    if not subdir.exists():\n",
    "        subdir.mkdir()\n",
    "    for i in range(15):\n",
    "        fname = color + '-' + str(i).zfill(3) + '.txt'\n",
    "        outfilepath = target / pathlib.Path(fname)\n",
    "        print(outfilepath.absolute())"
   ],
   "metadata": {
    "collapsed": false,
    "pycharm": {
     "name": "#%%\n"
    }
   }
  },
  {
   "cell_type": "code",
   "execution_count": 35,
   "outputs": [
    {
     "name": "stdout",
     "output_type": "stream",
     "text": [
      "[WindowsPath('results/book/000.txt'), WindowsPath('results/book/001.txt'), WindowsPath('results/book/002.txt'), WindowsPath('results/book/003.txt'), WindowsPath('results/book/004.txt'), WindowsPath('results/book/005.txt'), WindowsPath('results/book/006.txt'), WindowsPath('results/book/007.txt'), WindowsPath('results/book/008.txt'), WindowsPath('results/book/009.txt'), WindowsPath('results/book/010.txt'), WindowsPath('results/book/011.txt'), WindowsPath('results/book/012.txt'), WindowsPath('results/book/013.txt'), WindowsPath('results/book/014.txt')]\n",
      "[WindowsPath('results/movie/000.txt'), WindowsPath('results/movie/001.txt'), WindowsPath('results/movie/002.txt'), WindowsPath('results/movie/003.txt'), WindowsPath('results/movie/004.txt'), WindowsPath('results/movie/005.txt'), WindowsPath('results/movie/006.txt'), WindowsPath('results/movie/007.txt'), WindowsPath('results/movie/008.txt'), WindowsPath('results/movie/009.txt'), WindowsPath('results/movie/010.txt'), WindowsPath('results/movie/011.txt'), WindowsPath('results/movie/012.txt'), WindowsPath('results/movie/013.txt'), WindowsPath('results/movie/014.txt')]\n"
     ]
    }
   ],
   "source": [
    "for folder in target.iterdir():\n",
    "    print(list(folder.glob('*')))"
   ],
   "metadata": {
    "collapsed": false,
    "pycharm": {
     "name": "#%%\n"
    }
   }
  },
  {
   "cell_type": "markdown",
   "source": [
    "# Read Text File"
   ],
   "metadata": {
    "collapsed": false
   }
  },
  {
   "cell_type": "code",
   "execution_count": 37,
   "outputs": [
    {
     "name": "stdout",
     "output_type": "stream",
     "text": [
      "A told B, and B told C, \"I'll meet you at the top of the coconut tree.\"\n",
      "\"Wheee!\" said D to E F G, \"I'll beat you to the top of the coconut tree.\"\n",
      "Chicka chicka boom boom! Will there be enough room? Here comes H up the coconut tree,\n",
      "and I and J and tag-along K, all on their way up the coconut tree.\n",
      "Chicka chicka boom boom! Will there be enough room? Look who's coming! L M N O P!\n",
      "And Q R S! And T U V! Still more - W! And X Y Z!\n",
      "The whole alphabet up the - Oh, no! Chicka chicka... BOOM! BOOM!\n",
      "Skit skat skoodle doot. Flip flop flee. Everybody running to the coconut tree.\n",
      "Mamas and papas and uncles and aunts hug their little dears, then dust their pants.\n",
      "\"Help us up,\" cried A B C.\n",
      "Next from the pileup skinned-knee D and stubbed-toe E and patched-up F. Then comes G all out of breath.\n",
      "H is tangled up with I. J and K are about to cry. L is knotted like a tie.\n",
      "M is looped. N is stopped. O is twisted alley-oop. Skit skat skoodle doot. Flip flop flee.\n",
      "Look who's coming! It's black-eyed P, Q R S, and loose-tooth T. Then U V W wiggle-jiggle free.\n",
      "Last to come X Y Z. And the sun goes down on the coconut tree...\n",
      "But - chicka chicka boom boom! Look, there's a full moon.\n",
      "A is out of bed, and this is what he said, \"Dare double dare, you can't catch me.\n",
      "Chicka chicka BOOM! BOOM!Chicka chicka BOOM! BOOM!\n",
      "I'll beat you to the top of the coconut tree.\"\n",
      "Chicka chicka BOOM! BOOM!\n"
     ]
    }
   ],
   "source": [
    "target = pathlib.Path('examplefolder') / pathlib.Path('boomboom.txt')\n",
    "\n",
    "with open(target, 'r') as file_in:\n",
    "    text = file_in.read()\n",
    "\n",
    "print(text)"
   ],
   "metadata": {
    "collapsed": false,
    "pycharm": {
     "name": "#%%\n"
    }
   }
  },
  {
   "cell_type": "code",
   "execution_count": 38,
   "outputs": [
    {
     "data": {
      "text/plain": "['A told B, and B told C, \"I\\'ll meet you at the top of the coconut tree.\"\\n',\n '\"Wheee!\" said D to E F G, \"I\\'ll beat you to the top of the coconut tree.\"\\n',\n 'Chicka chicka boom boom! Will there be enough room? Here comes H up the coconut tree,\\n',\n 'and I and J and tag-along K, all on their way up the coconut tree.\\n',\n \"Chicka chicka boom boom! Will there be enough room? Look who's coming! L M N O P!\\n\",\n 'And Q R S! And T U V! Still more - W! And X Y Z!\\n',\n 'The whole alphabet up the - Oh, no! Chicka chicka... BOOM! BOOM!\\n',\n 'Skit skat skoodle doot. Flip flop flee. Everybody running to the coconut tree.\\n',\n 'Mamas and papas and uncles and aunts hug their little dears, then dust their pants.\\n',\n '\"Help us up,\" cried A B C.\\n',\n 'Next from the pileup skinned-knee D and stubbed-toe E and patched-up F. Then comes G all out of breath.\\n',\n 'H is tangled up with I. J and K are about to cry. L is knotted like a tie.\\n',\n 'M is looped. N is stopped. O is twisted alley-oop. Skit skat skoodle doot. Flip flop flee.\\n',\n \"Look who's coming! It's black-eyed P, Q R S, and loose-tooth T. Then U V W wiggle-jiggle free.\\n\",\n 'Last to come X Y Z. And the sun goes down on the coconut tree...\\n',\n \"But - chicka chicka boom boom! Look, there's a full moon.\\n\",\n 'A is out of bed, and this is what he said, \"Dare double dare, you can\\'t catch me.\\n',\n 'Chicka chicka BOOM! BOOM!Chicka chicka BOOM! BOOM!\\n',\n 'I\\'ll beat you to the top of the coconut tree.\"\\n',\n 'Chicka chicka BOOM! BOOM!']"
     },
     "execution_count": 38,
     "metadata": {},
     "output_type": "execute_result"
    }
   ],
   "source": [
    "target = pathlib.Path('examplefolder') / pathlib.Path('boomboom.txt')\n",
    "\n",
    "with open(target, 'r') as file_in:\n",
    "    lines = file_in.readlines()\n",
    "\n",
    "lines"
   ],
   "metadata": {
    "collapsed": false,
    "pycharm": {
     "name": "#%%\n"
    }
   }
  },
  {
   "cell_type": "code",
   "execution_count": 39,
   "outputs": [
    {
     "name": "stdout",
     "output_type": "stream",
     "text": [
      "A told B, and B told C, \"I'll meet you at the top of the coconut tree.\"\n",
      "\"Wheee!\" said D to E F G, \"I'll beat you to the top of the coconut tree.\"\n",
      "Chicka chicka boom boom! Will there be enough room? Here comes H up the coconut tree,\n",
      "and I and J and tag-along K, all on their way up the coconut tree.\n",
      "Chicka chicka boom boom! Will there be enough room? Look who's coming! L M N O P!\n",
      "And Q R S! And T U V! Still more - W! And X Y Z!\n",
      "The whole alphabet up the - Oh, no! Chicka chicka... BOOM! BOOM!\n",
      "Skit skat skoodle doot. Flip flop flee. Everybody running to the coconut tree.\n",
      "Mamas and papas and uncles and aunts hug their little dears, then dust their pants.\n",
      "\"Help us up,\" cried A B C.\n",
      "Next from the pileup skinned-knee D and stubbed-toe E and patched-up F. Then comes G all out of breath.\n",
      "H is tangled up with I. J and K are about to cry. L is knotted like a tie.\n",
      "M is looped. N is stopped. O is twisted alley-oop. Skit skat skoodle doot. Flip flop flee.\n",
      "Look who's coming! It's black-eyed P, Q R S, and loose-tooth T. Then U V W wiggle-jiggle free.\n",
      "Last to come X Y Z. And the sun goes down on the coconut tree...\n",
      "But - chicka chicka boom boom! Look, there's a full moon.\n",
      "A is out of bed, and this is what he said, \"Dare double dare, you can't catch me.\n",
      "Chicka chicka BOOM! BOOM!Chicka chicka BOOM! BOOM!\n",
      "I'll beat you to the top of the coconut tree.\"\n",
      "Chicka chicka BOOM! BOOM!\n"
     ]
    }
   ],
   "source": [
    "target = pathlib.Path('examplefolder') / pathlib.Path('boomboom.txt')\n",
    "\n",
    "text = target.read_text()\n",
    "\n",
    "print(text)"
   ],
   "metadata": {
    "collapsed": false,
    "pycharm": {
     "name": "#%%\n"
    }
   }
  },
  {
   "cell_type": "code",
   "execution_count": 40,
   "outputs": [
    {
     "name": "stdout",
     "output_type": "stream",
     "text": [
      "A told B, and B told C, \"I'll meet you at the top of the coconut tree.\"\n",
      "\"Wheee!\" said D to E F G, \"I'll beat you to the top of the coconut tree.\"\n",
      "Chicka chicka boom boom! Will there be enough room? Here comes H up the coconut tree,\n",
      "and I and J and tag-along K, all on their way up the coconut tree.\n",
      "Chicka chicka boom boom! Will there be enough room? Look who's coming! L M N O P!\n",
      "And Q R S! And T U V! Still more - W! And X Y Z!\n",
      "The whole alphabet up the - Oh, no! Chicka chicka... BOOM! BOOM!\n",
      "Skit skat skoodle doot. Flip flop flee. Everybody running to the coconut tree.\n",
      "Mamas and papas and uncles and aunts hug their little dears, then dust their pants.\n",
      "\"Help us up,\" cried A B C.\n",
      "Next from the pileup skinned-knee D and stubbed-toe E and patched-up F. Then comes G all out of breath.\n",
      "H is tangled up with I. J and K are about to cry. L is knotted like a tie.\n",
      "M is looped. N is stopped. O is twisted alley-oop. Skit skat skoodle doot. Flip flop flee.\n",
      "Look who's coming! It's black-eyed P, Q R S, and loose-tooth T. Then U V W wiggle-jiggle free.\n",
      "Last to come X Y Z. And the sun goes down on the coconut tree...\n",
      "But - chicka chicka boom boom! Look, there's a full moon.\n",
      "A is out of bed, and this is what he said, \"Dare double dare, you can't catch me.\n",
      "Chicka chicka BOOM! BOOM!Chicka chicka BOOM! BOOM!\n",
      "I'll beat you to the top of the coconut tree.\"\n",
      "Chicka chicka BOOM! BOOM!\n"
     ]
    }
   ],
   "source": [
    "target = pathlib.Path('examplefolder') / pathlib.Path('boomboom.txt')\n",
    "\n",
    "infile = open(target, 'r')\n",
    "text = infile.read()\n",
    "infile.close()\n",
    "\n",
    "print(text)"
   ],
   "metadata": {
    "collapsed": false,
    "pycharm": {
     "name": "#%%\n"
    }
   }
  },
  {
   "cell_type": "markdown",
   "source": [
    "# Read CSV File"
   ],
   "metadata": {
    "collapsed": false
   }
  },
  {
   "cell_type": "code",
   "execution_count": 44,
   "outputs": [
    {
     "data": {
      "text/plain": "[['horse', '9773', 'False', '0.0'],\n ['horseLabel', '9582', 'False', '0.0'],\n ['mother', '1548', 'False', '0.0'],\n ['father', '1852', 'False', '0.0'],\n ['birthyear', '319', 'False', '0.9968652037617555'],\n ['genderLabel', '4', 'False', '0.0'],\n ['deathyear', '152', 'False', '0.993421052631579'],\n ['testfoo', '1', 'True', '0.0']]"
     },
     "execution_count": 44,
     "metadata": {},
     "output_type": "execute_result"
    }
   ],
   "source": [
    "import csv\n",
    "\n",
    "target = pathlib.Path('query_has_unique') / pathlib.Path('query_has_unique.csv')\n",
    "\n",
    "with open(target, 'r') as file_in:\n",
    "    csvin = csv.reader(file_in)\n",
    "    headers = next(csvin)\n",
    "    data = [l for l in csvin]\n",
    "\n",
    "data"
   ],
   "metadata": {
    "collapsed": false,
    "pycharm": {
     "name": "#%%\n"
    }
   }
  },
  {
   "cell_type": "code",
   "execution_count": 45,
   "outputs": [
    {
     "name": "stdout",
     "output_type": "stream",
     "text": [
      "['field', 'num_times_seen', 'all_unique_Q', 'percent_is_numeric']\n"
     ]
    }
   ],
   "source": [
    "print(headers)"
   ],
   "metadata": {
    "collapsed": false,
    "pycharm": {
     "name": "#%%\n"
    }
   }
  },
  {
   "cell_type": "code",
   "execution_count": 46,
   "outputs": [
    {
     "name": "stdout",
     "output_type": "stream",
     "text": [
      "False\n",
      "False\n",
      "False\n",
      "False\n",
      "False\n",
      "False\n",
      "False\n",
      "True\n"
     ]
    }
   ],
   "source": [
    "uniquefield = headers.index('all_unique_Q')\n",
    "\n",
    "for line in data:\n",
    "    print(line[uniquefield])"
   ],
   "metadata": {
    "collapsed": false,
    "pycharm": {
     "name": "#%%\n"
    }
   }
  },
  {
   "cell_type": "markdown",
   "source": [
    "# Write CSV File"
   ],
   "metadata": {
    "collapsed": false
   }
  },
  {
   "cell_type": "code",
   "execution_count": 48,
   "outputs": [
    {
     "name": "stdout",
     "output_type": "stream",
     "text": [
      "['linenum', 'length', 'numwords']\n"
     ]
    },
    {
     "data": {
      "text/plain": "[[2, 72, 17],\n [3, 74, 17],\n [4, 86, 16],\n [5, 67, 15],\n [6, 82, 17],\n [7, 49, 16],\n [8, 65, 12],\n [9, 79, 13],\n [10, 84, 15],\n [11, 27, 7],\n [12, 104, 19],\n [13, 75, 19],\n [14, 91, 17],\n [15, 95, 18],\n [16, 65, 15],\n [17, 58, 11],\n [18, 82, 18],\n [19, 51, 7],\n [20, 47, 10],\n [21, 25, 4]]"
     },
     "execution_count": 48,
     "metadata": {},
     "output_type": "execute_result"
    }
   ],
   "source": [
    "linenum = 1\n",
    "\n",
    "allrows = [] # empty base list\n",
    "\n",
    "for line in lines:\n",
    "    length = len(line)\n",
    "    words = len(line.split())\n",
    "    linenum += 1\n",
    "    onerow = [linenum, length, words]\n",
    "    allrows.append(onerow)\n",
    "\n",
    "headers = ['linenum', 'length', 'numwords']\n",
    "print(headers)\n",
    "allrows"
   ],
   "metadata": {
    "collapsed": false,
    "pycharm": {
     "name": "#%%\n"
    }
   }
  },
  {
   "cell_type": "code",
   "execution_count": 49,
   "outputs": [
    {
     "name": "stdout",
     "output_type": "stream",
     "text": [
      "linenum,length,numwords\n",
      "\n",
      "2,72,17\n",
      "\n",
      "3,74,17\n",
      "\n",
      "4,86,16\n",
      "\n",
      "5,67,15\n",
      "\n",
      "6,82,17\n",
      "\n",
      "7,49,16\n",
      "\n",
      "8,65,12\n",
      "\n",
      "9,79,13\n",
      "\n",
      "10,84,15\n",
      "\n",
      "11,27,7\n",
      "\n",
      "12,104,19\n",
      "\n",
      "13,75,19\n",
      "\n",
      "14,91,17\n",
      "\n",
      "15,95,18\n",
      "\n",
      "16,65,15\n",
      "\n",
      "17,58,11\n",
      "\n",
      "18,82,18\n",
      "\n",
      "19,51,7\n",
      "\n",
      "20,47,10\n",
      "\n",
      "21,25,4\n",
      "\n",
      "\n"
     ]
    }
   ],
   "source": [
    "import csv\n",
    "\n",
    "with open(pathlib.Path('linecounts.csv'), 'w') as file_out:\n",
    "    csvout = csv.writer(file_out)\n",
    "    csvout.writerow(headers) # note the singular name here\n",
    "    csvout.writerows(allrows) # your 2D list goes here\n",
    "\n",
    "print(pathlib.Path('linecounts.csv').read_text())"
   ],
   "metadata": {
    "collapsed": false,
    "pycharm": {
     "name": "#%%\n"
    }
   }
  },
  {
   "cell_type": "markdown",
   "source": [
    "# Read JSON File"
   ],
   "metadata": {
    "collapsed": false
   }
  },
  {
   "cell_type": "code",
   "execution_count": 50,
   "outputs": [
    {
     "data": {
      "text/plain": "{'files': ['/Users/wickes1/PycharmProjects/IS452-Fall2019/shpcode/TC3/data_for_profile_testing/.DS_Store',\n  '/Users/wickes1/PycharmProjects/IS452-Fall2019/shpcode/TC3/data_for_profile_testing/citation-312031600.txt',\n  '/Users/wickes1/PycharmProjects/IS452-Fall2019/shpcode/TC3/data_for_profile_testing/conda-cheatsheet.pdf',\n  '/Users/wickes1/PycharmProjects/IS452-Fall2019/shpcode/TC3/data_for_profile_testing/meeting (1).collab',\n  '/Users/wickes1/PycharmProjects/IS452-Fall2019/shpcode/TC3/data_for_profile_testing/playerswithcoords.csv',\n  '/Users/wickes1/PycharmProjects/IS452-Fall2019/shpcode/TC3/data_for_profile_testing/readme',\n  '/Users/wickes1/PycharmProjects/IS452-Fall2019/shpcode/TC3/data_for_profile_testing/report.html',\n  '/Users/wickes1/PycharmProjects/IS452-Fall2019/shpcode/TC3/data_for_profile_testing/test',\n  '/Users/wickes1/PycharmProjects/IS452-Fall2019/shpcode/TC3/data_for_profile_testing/writtenfileinword.png'],\n 'directories': ['/Users/wickes1/PycharmProjects/IS452-Fall2019/shpcode/TC3/data_for_profile_testing/drivers',\n  '/Users/wickes1/PycharmProjects/IS452-Fall2019/shpcode/TC3/data_for_profile_testing/screenshots'],\n 'others': []}"
     },
     "execution_count": 50,
     "metadata": {},
     "output_type": "execute_result"
    }
   ],
   "source": [
    "import json\n",
    "\n",
    "target = pathlib.Path('query_has_unique') / pathlib.Path('query_has_unique.json')\n",
    "\n",
    "data = json.loads(target.read_text())\n",
    "\n",
    "data"
   ],
   "metadata": {
    "collapsed": false,
    "pycharm": {
     "name": "#%%\n"
    }
   }
  },
  {
   "cell_type": "code",
   "execution_count": 9,
   "outputs": [
    {
     "name": "stdout",
     "output_type": "stream",
     "text": [
      "{'files': ['/Users/wickes1/PycharmProjects/IS452-Fall2019/shpcode/TC3/data_for_profile_testing/.DS_Store', '/Users/wickes1/PycharmProjects/IS452-Fall2019/shpcode/TC3/data_for_profile_testing/citation-312031600.txt', '/Users/wickes1/PycharmProjects/IS452-Fall2019/shpcode/TC3/data_for_profile_testing/conda-cheatsheet.pdf', '/Users/wickes1/PycharmProjects/IS452-Fall2019/shpcode/TC3/data_for_profile_testing/meeting (1).collab', '/Users/wickes1/PycharmProjects/IS452-Fall2019/shpcode/TC3/data_for_profile_testing/playerswithcoords.csv', '/Users/wickes1/PycharmProjects/IS452-Fall2019/shpcode/TC3/data_for_profile_testing/readme', '/Users/wickes1/PycharmProjects/IS452-Fall2019/shpcode/TC3/data_for_profile_testing/report.html', '/Users/wickes1/PycharmProjects/IS452-Fall2019/shpcode/TC3/data_for_profile_testing/test', '/Users/wickes1/PycharmProjects/IS452-Fall2019/shpcode/TC3/data_for_profile_testing/writtenfileinword.png'], 'directories': ['/Users/wickes1/PycharmProjects/IS452-Fall2019/shpcode/TC3/data_for_profile_testing/drivers', '/Users/wickes1/PycharmProjects/IS452-Fall2019/shpcode/TC3/data_for_profile_testing/screenshots'], 'others': []}\n",
      "<class 'dict'>\n"
     ]
    }
   ],
   "source": [
    "import json\n",
    "\n",
    "target = pathlib.Path('query_has_unique') / pathlib.Path('query_has_unique.json')\n",
    "\n",
    "with open(target, 'r') as file_in:\n",
    "    data = json.load(file_in)\n",
    "\n",
    "print(data)\n",
    "print(type(data))"
   ],
   "metadata": {
    "collapsed": false,
    "pycharm": {
     "name": "#%%\n"
    }
   }
  },
  {
   "cell_type": "markdown",
   "source": [
    "# Write JSON File"
   ],
   "metadata": {
    "collapsed": false
   }
  },
  {
   "cell_type": "code",
   "execution_count": 52,
   "outputs": [
    {
     "name": "stdout",
     "output_type": "stream",
     "text": [
      "['in', '1957', 'the', 'soviet', 'union', 'began', 'deploying', 'the', 's-75', 'dvina', 'surface-to-air', 'missile,', 'controlled', 'by', 'fan', 'song', 'fire', 'control', 'radars.', 'this', 'development', 'made', 'penetration', 'of', 'soviet', 'air', 'space', 'by', 'american', 'bombers', 'more', 'dangerous.', 'the', 'us', 'air', 'force', 'began', 'a', 'program', 'of', 'cataloging', 'the', 'approximate', 'location', 'and', 'individual', 'operating', 'frequencies', 'of', 'these', 'radars,', 'using', 'electronic', 'reconnaissance', 'aircraft', 'flying', 'off', 'the', 'borders', 'of', 'the', 'soviet', 'union.', 'this', 'program', 'provided', 'information', 'on', 'radars', 'on', 'the', 'periphery', 'of', 'the', 'soviet', 'union,', 'but', 'information', 'on', 'the', 'sites', 'further', 'inland', 'was', 'lacking.', 'some', 'experiments', 'were', 'carried', 'out', 'using', 'radio', 'telescopes', 'looking', 'for', 'serendipitous', 'soviet', 'radar', 'reflections', 'off', 'the', 'moon,', 'but', 'this', 'proved', 'an', 'inadequate', 'solution', 'to', 'the', 'problem.']\n"
     ]
    }
   ],
   "source": [
    "some_wikipedia_text = \"In 1957 the Soviet Union began deploying the S-75 Dvina surface-to-air missile, controlled by Fan Song fire control radars. \\\n",
    "                       This development made penetration of Soviet air space by American bombers more dangerous. The US Air Force began a program of \\\n",
    "                       cataloging the approximate location and individual operating frequencies of these radars, using electronic reconnaissance aircraft \\\n",
    "                       flying off the borders of the Soviet Union. This program provided information on radars on the periphery of the Soviet Union, \\\n",
    "                       but information on the sites further inland was lacking. Some experiments were carried out using radio telescopes looking for \\\n",
    "                       serendipitous Soviet radar reflections off the Moon, but this proved an inadequate solution to the problem.\"\n",
    "\n",
    "# https://en.wikipedia.org/wiki/SOLRAD_2\n",
    "\n",
    "words = some_wikipedia_text.lower().split()\n",
    "\n",
    "print(words)"
   ],
   "metadata": {
    "collapsed": false,
    "pycharm": {
     "name": "#%%\n"
    }
   }
  },
  {
   "cell_type": "code",
   "execution_count": 53,
   "outputs": [
    {
     "name": "stdout",
     "output_type": "stream",
     "text": [
      "{'in': 1, '1957': 1, 'the': 11, 'soviet': 5, 'union': 1, 'began': 2, 'deploying': 1, 's-75': 1, 'dvina': 1, 'surface-to-air': 1, 'missile,': 1, 'controlled': 1, 'by': 2, 'fan': 1, 'song': 1, 'fire': 1, 'control': 1, 'radars.': 1, 'this': 3, 'development': 1, 'made': 1, 'penetration': 1, 'of': 5, 'air': 2, 'space': 1, 'american': 1, 'bombers': 1, 'more': 1, 'dangerous.': 1, 'us': 1, 'force': 1, 'a': 1, 'program': 2, 'cataloging': 1, 'approximate': 1, 'location': 1, 'and': 1, 'individual': 1, 'operating': 1, 'frequencies': 1, 'these': 1, 'radars,': 1, 'using': 2, 'electronic': 1, 'reconnaissance': 1, 'aircraft': 1, 'flying': 1, 'off': 2, 'borders': 1, 'union.': 1, 'provided': 1, 'information': 2, 'on': 3, 'radars': 1, 'periphery': 1, 'union,': 1, 'but': 2, 'sites': 1, 'further': 1, 'inland': 1, 'was': 1, 'lacking.': 1, 'some': 1, 'experiments': 1, 'were': 1, 'carried': 1, 'out': 1, 'radio': 1, 'telescopes': 1, 'looking': 1, 'for': 1, 'serendipitous': 1, 'radar': 1, 'reflections': 1, 'moon,': 1, 'proved': 1, 'an': 1, 'inadequate': 1, 'solution': 1, 'to': 1, 'problem.': 1}\n"
     ]
    }
   ],
   "source": [
    "counts = {} # see how I'm always opening my cells with the base value? this lets it reset every time you rerun things\n",
    "\n",
    "for word in words:\n",
    "    if word not in counts:\n",
    "        counts[word] = 1 # base case\n",
    "    else:\n",
    "        counts[word] += 1 #increment if its in there\n",
    "\n",
    "print(counts)"
   ],
   "metadata": {
    "collapsed": false,
    "pycharm": {
     "name": "#%%\n"
    }
   }
  },
  {
   "cell_type": "code",
   "execution_count": 54,
   "outputs": [
    {
     "name": "stdout",
     "output_type": "stream",
     "text": [
      "{'<=3': ['in', 'the', 'the', 'by', 'fan', 'of', 'air', 'by', 'the', 'us', 'air', 'a', 'of', 'the', 'and', 'of', 'off', 'the', 'of', 'the', 'on', 'on', 'the', 'of', 'the', 'but', 'on', 'the', 'was', 'out', 'for', 'off', 'the', 'but', 'an', 'to', 'the'], '4-6': ['1957', 'soviet', 'union', 'began', 's-75', 'dvina', 'song', 'fire', 'this', 'made', 'soviet', 'space', 'more', 'force', 'began', 'these', 'using', 'flying', 'soviet', 'union.', 'this', 'radars', 'soviet', 'union,', 'sites', 'inland', 'some', 'were', 'using', 'radio', 'soviet', 'radar', 'moon,', 'this', 'proved'], '7+': ['deploying', 'surface-to-air', 'missile,', 'controlled', 'control', 'radars.', 'development', 'penetration', 'american', 'bombers', 'dangerous.', 'program', 'cataloging', 'approximate', 'location', 'individual', 'operating', 'frequencies', 'radars,', 'electronic', 'reconnaissance', 'aircraft', 'borders', 'program', 'provided', 'information', 'periphery', 'information', 'further', 'lacking.', 'experiments', 'carried', 'telescopes', 'looking', 'serendipitous', 'reflections', 'inadequate', 'solution', 'problem.']}\n"
     ]
    }
   ],
   "source": [
    "wordcats = {'<=3': [], '4-6':[], '7+': []}\n",
    "\n",
    "for word in words:\n",
    "    l = len(word)\n",
    "    if l <= 3:\n",
    "        wordcats['<=3'].append(word)\n",
    "    elif l <= 6:\n",
    "        wordcats['4-6'].append(word)\n",
    "    else:\n",
    "        wordcats['7+'].append(word)\n",
    "\n",
    "print(wordcats)"
   ],
   "metadata": {
    "collapsed": false,
    "pycharm": {
     "name": "#%%\n"
    }
   }
  },
  {
   "cell_type": "code",
   "execution_count": 55,
   "outputs": [],
   "source": [
    "with open(pathlib.Path('wordcounts.json'), 'w') as jout:\n",
    "    json.dump(wordcats, jout, indent = 4) # in order: the dict, the file out object, and specify the indent."
   ],
   "metadata": {
    "collapsed": false,
    "pycharm": {
     "name": "#%%\n"
    }
   }
  },
  {
   "cell_type": "code",
   "execution_count": null,
   "outputs": [],
   "source": [],
   "metadata": {
    "collapsed": false,
    "pycharm": {
     "name": "#%%\n"
    }
   }
  }
 ],
 "metadata": {
  "kernelspec": {
   "display_name": "Python 3",
   "language": "python",
   "name": "python3"
  },
  "language_info": {
   "codemirror_mode": {
    "name": "ipython",
    "version": 2
   },
   "file_extension": ".py",
   "mimetype": "text/x-python",
   "name": "python",
   "nbconvert_exporter": "python",
   "pygments_lexer": "ipython2",
   "version": "2.7.6"
  }
 },
 "nbformat": 4,
 "nbformat_minor": 0
}